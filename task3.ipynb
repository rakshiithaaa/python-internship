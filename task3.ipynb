{
 "cells": [
  {
   "cell_type": "code",
   "execution_count": null,
   "metadata": {},
   "outputs": [],
   "source": [
    "import pandas as pd\n",
    "import numpy as np\n",
    "import matplotlib.pyplot as plt\n",
    "import seaborn as sns\n",
    "from datetime import datetime\n",
    "\n",
    "data = pd.read_csv('C:\\\\Users\\\\HP\\\\Downloads\\\\year.csv')\n",
    "display(data.head(2))\n",
    "plt.scatter(data['year'],data['own'])\n",
    "plt.title(\"scatter plot\")\n",
    "plt.xlabel('year')\n",
    "plt.ylabel('own')\n",
    "plt.show()\n",
    "plt.plot(data['year'])\n",
    "plt.plot(data['own'])\n",
    "plt.show()\n",
    "\n",
    "#bar chart or bar plot\n",
    "plt.bar(data['year'],data['own'])\n",
    "plt.title(\"bar chart\")\n",
    "plt.xlabel('year')\n",
    "plt.ylabel('own')\n",
    "plt.show()\n",
    "\n",
    "#histogram\n",
    "plt.hist(data['income'])\n",
    "plt.title(\"histogram\")\n",
    "plt.show()"
   ]
  }
 ],
 "metadata": {
  "language_info": {
   "name": "python"
  }
 },
 "nbformat": 4,
 "nbformat_minor": 2
}
